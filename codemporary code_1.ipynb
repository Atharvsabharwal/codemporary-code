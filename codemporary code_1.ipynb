{
 "cells": [
  {
   "cell_type": "code",
   "execution_count": 1,
   "id": "49ca282f",
   "metadata": {},
   "outputs": [
    {
     "name": "stdout",
     "output_type": "stream",
     "text": [
      "135.0\n",
      "13975\n"
     ]
    }
   ],
   "source": [
    "x=12960\n",
    "y=96\n",
    "z=1015\n",
    "print(x/y)\n",
    "print(x+z)"
   ]
  },
  {
   "cell_type": "code",
   "execution_count": 7,
   "id": "297eacea",
   "metadata": {},
   "outputs": [
    {
     "name": "stdout",
     "output_type": "stream",
     "text": [
      "2.356194490192345\n"
     ]
    }
   ],
   "source": [
    "import math\n",
    "print(math.radians(135))"
   ]
  },
  {
   "cell_type": "code",
   "execution_count": 8,
   "id": "c9d1d27d",
   "metadata": {},
   "outputs": [
    {
     "name": "stdout",
     "output_type": "stream",
     "text": [
      "5000.0\n"
     ]
    }
   ],
   "source": [
    "a=25\n",
    "b=75\n",
    "h=100\n",
    "print(((a+b)/2)*h)"
   ]
  },
  {
   "cell_type": "code",
   "execution_count": null,
   "id": "34f81b93",
   "metadata": {},
   "outputs": [],
   "source": []
  }
 ],
 "metadata": {
  "kernelspec": {
   "display_name": "Python 3 (ipykernel)",
   "language": "python",
   "name": "python3"
  },
  "language_info": {
   "codemirror_mode": {
    "name": "ipython",
    "version": 3
   },
   "file_extension": ".py",
   "mimetype": "text/x-python",
   "name": "python",
   "nbconvert_exporter": "python",
   "pygments_lexer": "ipython3",
   "version": "3.9.13"
  }
 },
 "nbformat": 4,
 "nbformat_minor": 5
}
